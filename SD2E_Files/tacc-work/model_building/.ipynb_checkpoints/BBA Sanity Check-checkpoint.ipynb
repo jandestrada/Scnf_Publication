{
 "cells": [
  {
   "cell_type": "code",
   "execution_count": 1,
   "metadata": {},
   "outputs": [],
   "source": [
    "import pandas as pd\n",
    "import BlackBoxAuditing as bba\n",
    "import numpy as np\n",
    "import random\n",
    "from sklearn.dummy import DummyClassifier\n",
    "from sklearn.tree import DecisionTreeClassifier\n",
    "from sklearn.model_selection import train_test_split\n",
    "from sklearn.tree import export_graphviz\n",
    "\n",
    "from operator import itemgetter\n",
    "from BlackBoxAuditing.model_factories.SKLearnModelVisitor import SKLearnModelVisitor\n"
   ]
  },
  {
   "cell_type": "code",
   "execution_count": 2,
   "metadata": {},
   "outputs": [],
   "source": [
    "def perform_bba_audit(training_data,\n",
    "                      testing_data,\n",
    "                      features,\n",
    "                      classifier,\n",
    "                      col_to_predict):\n",
    "    combined_df = training_data.append(testing_data)\n",
    "    X = combined_df[features]\n",
    "    y = pd.DataFrame(combined_df[col_to_predict],columns=[col_to_predict])\n",
    "\n",
    "    data = bba.data.load_testdf_only(X, y)\n",
    "    response_index = len(data[0]) - 1\n",
    "    auditor = bba.Auditor()\n",
    "    auditor.verbose = True\n",
    "    auditor.trained_model = SKLearnModelVisitor(classifier, response_index)\n",
    "    auditor.WRITE_ORIGINAL_PREDICTIONS= True\n",
    "    auditor(data,dump_all=True)\n",
    "    \n",
    "#     print(\"BBA AUDITOR RESULTS:\\n\")\n",
    "#     print(auditor._audits_data[\"ranks\"])\n",
    "    return auditor._audits_data[\"ranks\"]"
   ]
  },
  {
   "cell_type": "code",
   "execution_count": 3,
   "metadata": {},
   "outputs": [],
   "source": [
    "def dummy_df():\n",
    "    df = pd.DataFrame()\n",
    "    df['feature1'] = np.arange(1,2001)\n",
    "    df['feature2'] = df['feature1'] * 2\n",
    "    df['feature3'] = df['feature2'] * 3\n",
    "    df['feature4'] = [random.randint(10,20) for i in range(2000)]\n",
    "    df['feature5'] = [random.randint(10,20)]*2000\n",
    "    df['target'] = [0]*1000 + [1]*1000\n",
    "    return df"
   ]
  },
  {
   "cell_type": "code",
   "execution_count": 5,
   "metadata": {},
   "outputs": [],
   "source": [
    "df = dummy_df()\n",
    "X_train, X_test, y_train, y_test = train_test_split(df.iloc[:,:5],df.iloc[:,5])"
   ]
  },
  {
   "cell_type": "code",
   "execution_count": 5,
   "metadata": {},
   "outputs": [
    {
     "data": {
      "text/plain": [
       "DummyClassifier(constant=None, random_state=None, strategy='stratified')"
      ]
     },
     "execution_count": 5,
     "metadata": {},
     "output_type": "execute_result"
    }
   ],
   "source": [
    "clf = DummyClassifier()\n",
    "clf"
   ]
  },
  {
   "cell_type": "code",
   "execution_count": 6,
   "metadata": {},
   "outputs": [],
   "source": [
    "dct = DecisionTreeClassifier()"
   ]
  },
  {
   "cell_type": "code",
   "execution_count": 7,
   "metadata": {},
   "outputs": [
    {
     "data": {
      "text/plain": [
       "array([1, 0, 1, 1, 0, 0, 0, 0, 1, 0, 1, 1, 0, 0, 1, 0, 1, 0, 1, 1, 0, 0,\n",
       "       1, 1, 1, 0, 0, 1, 0, 1, 1, 1, 1, 1, 1, 1, 0, 0, 0, 0, 0, 1, 1, 1,\n",
       "       1, 1, 0, 0, 1, 1, 1, 0, 0, 1, 0, 1, 1, 1, 0, 0, 1, 0, 1, 1, 1, 0,\n",
       "       0, 0, 0, 1, 0, 1, 1, 0, 1, 0, 1, 1, 1, 1, 1, 1, 0, 1, 0, 1, 0, 1,\n",
       "       1, 1, 0, 1, 1, 1, 1, 0, 0, 0, 0, 0, 1, 1, 1, 0, 1, 1, 1, 1, 1, 1,\n",
       "       0, 1, 1, 1, 0, 1, 1, 0, 0, 1, 1, 1, 1, 1, 1, 1, 1, 0, 0, 1, 0, 0,\n",
       "       0, 1, 1, 1, 1, 1, 1, 0, 0, 0, 1, 1, 0, 1, 0, 1, 0, 0, 1, 1, 1, 1,\n",
       "       1, 1, 0, 1, 1, 0, 0, 0, 0, 0, 0, 1, 0, 0, 0, 0, 0, 0, 0, 1, 0, 0,\n",
       "       0, 0, 0, 0, 1, 1, 1, 0, 0, 1, 1, 1, 0, 0, 0, 1, 0, 0, 0, 0, 1, 1,\n",
       "       1, 0, 1, 0, 0, 1, 0, 0, 1, 0, 1, 1, 1, 1, 1, 0, 1, 1, 1, 0, 1, 1,\n",
       "       0, 0, 0, 1, 1, 1, 0, 0, 0, 0, 1, 1, 1, 0, 0, 0, 1, 1, 0, 0, 0, 1,\n",
       "       0, 1, 1, 0, 0, 1, 0, 1, 0, 0, 1, 1, 1, 1, 0, 0, 0, 1, 1, 1, 0, 0,\n",
       "       0, 0, 0, 1, 0, 0, 1, 0, 1, 1, 1, 0, 0, 1, 1, 0, 1, 0, 0, 1, 1, 0,\n",
       "       0, 1, 1, 1, 0, 0, 1, 0, 1, 0, 0, 1, 0, 1, 1, 0, 1, 1, 0, 0, 1, 1,\n",
       "       0, 0, 1, 1, 0, 1, 0, 1, 0, 0, 1, 0, 1, 1, 0, 0, 1, 0, 1, 1, 1, 0,\n",
       "       1, 1, 1, 0, 0, 1, 0, 0, 1, 1, 0, 1, 0, 0, 1, 1, 1, 1, 1, 0, 0, 0,\n",
       "       1, 0, 0, 0, 1, 1, 0, 1, 1, 0, 1, 0, 1, 1, 0, 1, 0, 0, 1, 1, 1, 0,\n",
       "       1, 1, 0, 1, 1, 1, 0, 1, 0, 1, 1, 1, 0, 1, 0, 0, 0, 0, 0, 1, 0, 1,\n",
       "       0, 0, 0, 0, 1, 0, 0, 1, 1, 0, 1, 1, 1, 0, 1, 0, 0, 1, 1, 1, 1, 0,\n",
       "       0, 0, 1, 0, 1, 0, 1, 1, 1, 1, 0, 0, 1, 0, 1, 1, 0, 1, 1, 0, 1, 1,\n",
       "       0, 0, 0, 0, 1, 0, 1, 1, 0, 0, 0, 0, 1, 1, 0, 1, 0, 1, 1, 1, 0, 0,\n",
       "       1, 0, 0, 0, 1, 0, 0, 0, 0, 0, 0, 0, 1, 0, 1, 0, 1, 1, 0, 1, 0, 1,\n",
       "       0, 1, 0, 1, 0, 1, 1, 1, 1, 0, 0, 1, 0, 0, 0, 0])"
      ]
     },
     "execution_count": 7,
     "metadata": {},
     "output_type": "execute_result"
    }
   ],
   "source": [
    "clf.fit(X_train,y_train)\n",
    "clf.predict(X_test)"
   ]
  },
  {
   "cell_type": "code",
   "execution_count": 8,
   "metadata": {},
   "outputs": [
    {
     "data": {
      "text/plain": [
       "array([1, 1, 1, 1, 0, 1, 0, 1, 1, 1, 1, 1, 0, 1, 0, 1, 1, 1, 0, 0, 0, 0,\n",
       "       0, 0, 0, 1, 0, 0, 1, 1, 1, 0, 0, 1, 0, 1, 0, 0, 1, 1, 0, 0, 0, 1,\n",
       "       1, 0, 0, 1, 1, 0, 1, 1, 0, 1, 0, 0, 1, 1, 1, 0, 1, 0, 0, 0, 1, 1,\n",
       "       0, 0, 0, 0, 1, 1, 1, 1, 1, 0, 1, 1, 0, 1, 1, 0, 0, 0, 1, 1, 0, 0,\n",
       "       0, 1, 0, 0, 0, 1, 1, 1, 1, 1, 0, 0, 1, 1, 1, 1, 1, 1, 1, 0, 0, 1,\n",
       "       1, 1, 0, 0, 0, 0, 0, 1, 0, 0, 0, 1, 1, 0, 1, 0, 0, 0, 0, 1, 0, 1,\n",
       "       1, 0, 1, 0, 1, 1, 1, 1, 0, 1, 0, 1, 0, 1, 0, 0, 1, 1, 0, 0, 1, 0,\n",
       "       1, 0, 0, 0, 1, 1, 0, 1, 0, 1, 1, 1, 0, 0, 0, 1, 0, 1, 0, 1, 1, 0,\n",
       "       1, 1, 1, 1, 1, 0, 1, 0, 1, 0, 0, 0, 0, 1, 0, 1, 0, 1, 0, 1, 0, 0,\n",
       "       1, 0, 1, 1, 1, 0, 0, 0, 0, 1, 0, 0, 0, 1, 1, 1, 1, 0, 0, 1, 0, 1,\n",
       "       1, 0, 0, 1, 1, 0, 0, 1, 1, 1, 0, 0, 0, 0, 0, 1, 1, 0, 0, 1, 1, 1,\n",
       "       0, 1, 1, 1, 1, 0, 1, 0, 1, 1, 0, 1, 0, 0, 1, 1, 0, 1, 0, 1, 1, 1,\n",
       "       1, 1, 1, 0, 0, 0, 0, 0, 1, 1, 1, 1, 0, 1, 0, 0, 1, 0, 1, 1, 1, 1,\n",
       "       0, 0, 0, 0, 1, 1, 1, 1, 0, 1, 1, 0, 0, 1, 1, 0, 1, 1, 0, 0, 1, 0,\n",
       "       0, 0, 1, 1, 1, 1, 1, 1, 0, 1, 1, 0, 1, 0, 0, 1, 1, 1, 0, 1, 0, 0,\n",
       "       0, 1, 0, 1, 0, 1, 1, 0, 1, 1, 0, 1, 0, 1, 1, 1, 1, 0, 0, 0, 1, 0,\n",
       "       0, 0, 1, 0, 1, 0, 0, 0, 0, 0, 0, 1, 1, 1, 1, 0, 1, 1, 0, 0, 0, 0,\n",
       "       0, 1, 0, 0, 0, 1, 1, 0, 0, 0, 0, 1, 0, 1, 1, 1, 0, 0, 1, 1, 1, 1,\n",
       "       0, 1, 0, 1, 0, 1, 1, 0, 0, 0, 1, 1, 0, 0, 1, 1, 0, 1, 0, 0, 0, 0,\n",
       "       1, 1, 0, 0, 1, 0, 1, 1, 1, 1, 0, 1, 1, 0, 1, 1, 1, 0, 1, 1, 0, 1,\n",
       "       0, 0, 0, 0, 0, 1, 1, 0, 1, 1, 0, 1, 1, 1, 1, 0, 1, 0, 0, 0, 1, 0,\n",
       "       0, 0, 1, 0, 1, 0, 1, 0, 0, 0, 1, 0, 0, 0, 0, 0, 1, 1, 0, 1, 0, 0,\n",
       "       0, 1, 1, 0, 1, 1, 0, 0, 1, 1, 1, 0, 1, 1, 0, 0])"
      ]
     },
     "execution_count": 8,
     "metadata": {},
     "output_type": "execute_result"
    }
   ],
   "source": [
    "dct.fit(X_train,y_train)\n",
    "dct.predict(X_test)"
   ]
  },
  {
   "cell_type": "code",
   "execution_count": 9,
   "metadata": {
    "collapsed": true
   },
   "outputs": [
    {
     "name": "stdout",
     "output_type": "stream",
     "text": [
      "Auditing: 'feature1' (1/5). (18:17:46)\n",
      "Auditing: 'feature2' (2/5). (18:17:48)\n",
      "Auditing: 'feature3' (3/5). (18:17:51)\n",
      "Auditing: 'feature4' (4/5). (18:17:53)\n",
      "Auditing: 'feature5' (5/5). (18:17:56)\n",
      "Audit file dump set to True: All audit files have been saved.\n",
      "Audit files dumped to: audits/1551637066.5328648.\n",
      "\n",
      "Ranking audit files by accuracy. (18:17:59)\n",
      "\t[('feature1', 0.009500000000000008), ('feature2', 0.0), ('feature3', -0.0035000000000000586), ('feature5', -0.004999999999999949), ('feature4', -0.018000000000000016)] (18:17:59)\n",
      "Ranking audit files by BCR. (18:17:59)\n",
      "\t[('feature1', 0.009500000000000064), ('feature2', 0.0), ('feature3', -0.0035000000000000586), ('feature5', -0.004999999999999893), ('feature4', -0.018000000000000016)] (18:17:59)\n",
      "Audit Start Time: 2019-03-03 18:17:46.532843\n",
      "Audit End Time: 2019-03-03 18:17:59.254972\n",
      "Retrained Per Repair: False\n",
      "Model Factory ID: Pretrained\n",
      "Model Type: Pretrained\n",
      "Non-standard Model Options: {}\n",
      "Train Size: 0\n",
      "Test Size: 2000\n",
      "Non-standard Ignored Features: []\n",
      "Features: ['feature1', 'feature2', 'feature3', 'feature4', 'feature5', 'target']\n",
      "\n",
      "Ranked Features by accuracy: [('feature1', 0.009500000000000008), ('feature2', 0.0), ('feature3', -0.0035000000000000586), ('feature5', -0.004999999999999949), ('feature4', -0.018000000000000016)]\n",
      "\tApprox. Trend Groups: [['feature1', 'feature2', 'feature3', 'feature4', 'feature5']]\n",
      "\n",
      "Ranked Features by BCR: [('feature1', 0.009500000000000064), ('feature2', 0.0), ('feature3', -0.0035000000000000586), ('feature5', -0.004999999999999893), ('feature4', -0.018000000000000016)]\n",
      "\tApprox. Trend Groups: [['feature1', 'feature2', 'feature3', 'feature4', 'feature5']]\n",
      "\n",
      "Dumping original training data. (18:17:59)\n"
     ]
    },
    {
     "ename": "UnboundLocalError",
     "evalue": "local variable 'model_factory' referenced before assignment",
     "output_type": "error",
     "traceback": [
      "\u001b[0;31m---------------------------------------------------------------------------\u001b[0m",
      "\u001b[0;31mUnboundLocalError\u001b[0m                         Traceback (most recent call last)",
      "\u001b[0;32m<ipython-input-9-eb3df57fbdc2>\u001b[0m in \u001b[0;36m<module>\u001b[0;34m\u001b[0m\n\u001b[1;32m      2\u001b[0m \u001b[0mtest\u001b[0m \u001b[0;34m=\u001b[0m \u001b[0mpd\u001b[0m\u001b[0;34m.\u001b[0m\u001b[0mconcat\u001b[0m\u001b[0;34m(\u001b[0m\u001b[0;34m[\u001b[0m\u001b[0mX_test\u001b[0m\u001b[0;34m,\u001b[0m\u001b[0my_test\u001b[0m\u001b[0;34m]\u001b[0m\u001b[0;34m,\u001b[0m\u001b[0maxis\u001b[0m\u001b[0;34m=\u001b[0m\u001b[0;36m1\u001b[0m\u001b[0;34m)\u001b[0m\u001b[0;34m\u001b[0m\u001b[0m\n\u001b[1;32m      3\u001b[0m \u001b[0;34m\u001b[0m\u001b[0m\n\u001b[0;32m----> 4\u001b[0;31m \u001b[0mperform_bba_audit\u001b[0m\u001b[0;34m(\u001b[0m\u001b[0mtraining\u001b[0m\u001b[0;34m,\u001b[0m\u001b[0mtest\u001b[0m\u001b[0;34m,\u001b[0m \u001b[0mdf\u001b[0m\u001b[0;34m.\u001b[0m\u001b[0mcolumns\u001b[0m\u001b[0;34m[\u001b[0m\u001b[0;34m:\u001b[0m\u001b[0;34m-\u001b[0m\u001b[0;36m1\u001b[0m\u001b[0;34m]\u001b[0m\u001b[0;34m,\u001b[0m\u001b[0mclf\u001b[0m\u001b[0;34m,\u001b[0m\u001b[0mcol_to_predict\u001b[0m\u001b[0;34m=\u001b[0m\u001b[0mdf\u001b[0m\u001b[0;34m.\u001b[0m\u001b[0mcolumns\u001b[0m\u001b[0;34m[\u001b[0m\u001b[0;34m-\u001b[0m\u001b[0;36m1\u001b[0m\u001b[0;34m]\u001b[0m\u001b[0;34m)\u001b[0m\u001b[0;34m\u001b[0m\u001b[0m\n\u001b[0m",
      "\u001b[0;32m<ipython-input-2-94aa0add1b79>\u001b[0m in \u001b[0;36mperform_bba_audit\u001b[0;34m(training_data, testing_data, features, classifier, col_to_predict)\u001b[0m\n\u001b[1;32m     14\u001b[0m     \u001b[0mauditor\u001b[0m\u001b[0;34m.\u001b[0m\u001b[0mtrained_model\u001b[0m \u001b[0;34m=\u001b[0m \u001b[0mSKLearnModelVisitor\u001b[0m\u001b[0;34m(\u001b[0m\u001b[0mclassifier\u001b[0m\u001b[0;34m,\u001b[0m \u001b[0mresponse_index\u001b[0m\u001b[0;34m)\u001b[0m\u001b[0;34m\u001b[0m\u001b[0m\n\u001b[1;32m     15\u001b[0m     \u001b[0mauditor\u001b[0m\u001b[0;34m.\u001b[0m\u001b[0mWRITE_ORIGINAL_PREDICTIONS\u001b[0m\u001b[0;34m=\u001b[0m \u001b[0;32mTrue\u001b[0m\u001b[0;34m\u001b[0m\u001b[0m\n\u001b[0;32m---> 16\u001b[0;31m     \u001b[0mauditor\u001b[0m\u001b[0;34m(\u001b[0m\u001b[0mdata\u001b[0m\u001b[0;34m,\u001b[0m\u001b[0mdump_all\u001b[0m\u001b[0;34m=\u001b[0m\u001b[0;32mTrue\u001b[0m\u001b[0;34m)\u001b[0m\u001b[0;34m\u001b[0m\u001b[0m\n\u001b[0m\u001b[1;32m     17\u001b[0m \u001b[0;34m\u001b[0m\u001b[0m\n\u001b[1;32m     18\u001b[0m \u001b[0;31m#     print(\"BBA AUDITOR RESULTS:\\n\")\u001b[0m\u001b[0;34m\u001b[0m\u001b[0;34m\u001b[0m\u001b[0m\n",
      "\u001b[0;32m~/tacc-work/jupyter_packages/lib/python3.6/site-packages/BlackBoxAuditing/BlackBoxAuditor.py\u001b[0m in \u001b[0;36m__call__\u001b[0;34m(self, data, output_dir, dump_all, features_to_audit)\u001b[0m\n\u001b[1;32m    155\u001b[0m           \u001b[0mwriter\u001b[0m\u001b[0;34m.\u001b[0m\u001b[0mwriterow\u001b[0m\u001b[0;34m(\u001b[0m\u001b[0mfile_headers\u001b[0m\u001b[0;34m)\u001b[0m\u001b[0;34m\u001b[0m\u001b[0m\n\u001b[1;32m    156\u001b[0m           \u001b[0;31m#stuff added cause code isnt working----\u001b[0m\u001b[0;34m\u001b[0m\u001b[0;34m\u001b[0m\u001b[0m\n\u001b[0;32m--> 157\u001b[0;31m           \u001b[0mmodel\u001b[0m \u001b[0;34m=\u001b[0m \u001b[0mmodel_factory\u001b[0m\u001b[0;34m.\u001b[0m\u001b[0mbuild\u001b[0m\u001b[0;34m(\u001b[0m\u001b[0mtrain_set\u001b[0m\u001b[0;34m)\u001b[0m\u001b[0;34m\u001b[0m\u001b[0m\n\u001b[0m\u001b[1;32m    158\u001b[0m           \u001b[0mtrain_pred_tuples\u001b[0m \u001b[0;34m=\u001b[0m \u001b[0mmodel\u001b[0m\u001b[0;34m.\u001b[0m\u001b[0mtest\u001b[0m\u001b[0;34m(\u001b[0m\u001b[0mtrain_set\u001b[0m\u001b[0;34m)\u001b[0m\u001b[0;34m\u001b[0m\u001b[0m\n\u001b[1;32m    159\u001b[0m           \u001b[0;31m#---------------------------------------\u001b[0m\u001b[0;34m\u001b[0m\u001b[0;34m\u001b[0m\u001b[0m\n",
      "\u001b[0;31mUnboundLocalError\u001b[0m: local variable 'model_factory' referenced before assignment"
     ]
    }
   ],
   "source": [
    "training = pd.concat([X_train,y_train],axis=1)\n",
    "test = pd.concat([X_test,y_test],axis=1)\n",
    "\n",
    "perform_bba_audit(training,test, df.columns[:-1],clf,col_to_predict=df.columns[-1])"
   ]
  },
  {
   "cell_type": "code",
   "execution_count": null,
   "metadata": {},
   "outputs": [],
   "source": [
    "from IPython.display import SVG\n",
    "from graphviz import Source\n",
    "graph = Source(export_graphviz(dct, out_file=None, feature_names=df.columns[:-1]))\n",
    "SVG(graph.pipe(format='svg'))"
   ]
  },
  {
   "cell_type": "markdown",
   "metadata": {},
   "source": [
    "# Consistency stuff"
   ]
  },
  {
   "cell_type": "code",
   "execution_count": 9,
   "metadata": {},
   "outputs": [
    {
     "name": "stdout",
     "output_type": "stream",
     "text": [
      "Auditing: 'feature1' (1/5). (18:20:48)\n",
      "Auditing: 'feature2' (2/5). (18:20:50)\n",
      "Auditing: 'feature3' (3/5). (18:20:52)\n",
      "Auditing: 'feature4' (4/5). (18:20:54)\n",
      "Auditing: 'feature5' (5/5). (18:20:57)\n",
      "Audit file dump set to True: All audit files have been saved.\n",
      "Audit files dumped to: audits/1551637248.4101086.\n",
      "\n",
      "Ranking audit files by accuracy. (18:21:00)\n",
      "\t[('feature2', 0.5), ('feature1', 0.4665), ('feature3', 0.4665), ('feature4', 0.02100000000000002), ('feature5', 0.0)] (18:21:00)\n",
      "Ranking audit files by BCR. (18:21:00)\n",
      "\t[('feature2', 0.5), ('feature1', 0.4665), ('feature3', 0.4665), ('feature4', 0.02100000000000002), ('feature5', 0.0)] (18:21:00)\n",
      "Audit Start Time: 2019-03-03 18:20:48.410086\n",
      "Audit End Time: 2019-03-03 18:21:00.284670\n",
      "Retrained Per Repair: False\n",
      "Model Factory ID: Pretrained\n",
      "Model Type: Pretrained\n",
      "Non-standard Model Options: {}\n",
      "Train Size: 0\n",
      "Test Size: 2000\n",
      "Non-standard Ignored Features: []\n",
      "Features: ['feature1', 'feature2', 'feature3', 'feature4', 'feature5', 'target']\n",
      "\n",
      "Ranked Features by accuracy: [('feature2', 0.5), ('feature1', 0.4665), ('feature3', 0.4665), ('feature4', 0.02100000000000002), ('feature5', 0.0)]\n",
      "\tApprox. Trend Groups: [['feature1', 'feature3'], ['feature2'], ['feature4', 'feature5']]\n",
      "\n",
      "Ranked Features by BCR: [('feature2', 0.5), ('feature1', 0.4665), ('feature3', 0.4665), ('feature4', 0.02100000000000002), ('feature5', 0.0)]\n",
      "\tApprox. Trend Groups: [['feature1', 'feature3'], ['feature2'], ['feature4', 'feature5']]\n",
      "\n",
      "Dumping original training data. (18:21:00)\n"
     ]
    },
    {
     "ename": "UnboundLocalError",
     "evalue": "local variable 'all_data' referenced before assignment",
     "output_type": "error",
     "traceback": [
      "\u001b[0;31m---------------------------------------------------------------------------\u001b[0m",
      "\u001b[0;31mUnboundLocalError\u001b[0m                         Traceback (most recent call last)",
      "\u001b[0;32m<ipython-input-9-b3447f356e9d>\u001b[0m in \u001b[0;36m<module>\u001b[0;34m\u001b[0m\n\u001b[1;32m      2\u001b[0m \u001b[0mtest\u001b[0m \u001b[0;34m=\u001b[0m \u001b[0mpd\u001b[0m\u001b[0;34m.\u001b[0m\u001b[0mconcat\u001b[0m\u001b[0;34m(\u001b[0m\u001b[0;34m[\u001b[0m\u001b[0mX_test\u001b[0m\u001b[0;34m,\u001b[0m\u001b[0my_test\u001b[0m\u001b[0;34m]\u001b[0m\u001b[0;34m,\u001b[0m\u001b[0maxis\u001b[0m\u001b[0;34m=\u001b[0m\u001b[0;36m1\u001b[0m\u001b[0;34m)\u001b[0m\u001b[0;34m\u001b[0m\u001b[0m\n\u001b[1;32m      3\u001b[0m \u001b[0;34m\u001b[0m\u001b[0m\n\u001b[0;32m----> 4\u001b[0;31m \u001b[0mperform_bba_audit\u001b[0m\u001b[0;34m(\u001b[0m\u001b[0mtraining\u001b[0m\u001b[0;34m,\u001b[0m\u001b[0mtest\u001b[0m\u001b[0;34m,\u001b[0m \u001b[0mdf\u001b[0m\u001b[0;34m.\u001b[0m\u001b[0mcolumns\u001b[0m\u001b[0;34m[\u001b[0m\u001b[0;34m:\u001b[0m\u001b[0;34m-\u001b[0m\u001b[0;36m1\u001b[0m\u001b[0;34m]\u001b[0m\u001b[0;34m,\u001b[0m\u001b[0mdct\u001b[0m\u001b[0;34m,\u001b[0m\u001b[0mcol_to_predict\u001b[0m\u001b[0;34m=\u001b[0m\u001b[0mdf\u001b[0m\u001b[0;34m.\u001b[0m\u001b[0mcolumns\u001b[0m\u001b[0;34m[\u001b[0m\u001b[0;34m-\u001b[0m\u001b[0;36m1\u001b[0m\u001b[0;34m]\u001b[0m\u001b[0;34m)\u001b[0m\u001b[0;34m\u001b[0m\u001b[0m\n\u001b[0m",
      "\u001b[0;32m<ipython-input-2-94aa0add1b79>\u001b[0m in \u001b[0;36mperform_bba_audit\u001b[0;34m(training_data, testing_data, features, classifier, col_to_predict)\u001b[0m\n\u001b[1;32m     14\u001b[0m     \u001b[0mauditor\u001b[0m\u001b[0;34m.\u001b[0m\u001b[0mtrained_model\u001b[0m \u001b[0;34m=\u001b[0m \u001b[0mSKLearnModelVisitor\u001b[0m\u001b[0;34m(\u001b[0m\u001b[0mclassifier\u001b[0m\u001b[0;34m,\u001b[0m \u001b[0mresponse_index\u001b[0m\u001b[0;34m)\u001b[0m\u001b[0;34m\u001b[0m\u001b[0m\n\u001b[1;32m     15\u001b[0m     \u001b[0mauditor\u001b[0m\u001b[0;34m.\u001b[0m\u001b[0mWRITE_ORIGINAL_PREDICTIONS\u001b[0m\u001b[0;34m=\u001b[0m \u001b[0;32mTrue\u001b[0m\u001b[0;34m\u001b[0m\u001b[0m\n\u001b[0;32m---> 16\u001b[0;31m     \u001b[0mauditor\u001b[0m\u001b[0;34m(\u001b[0m\u001b[0mdata\u001b[0m\u001b[0;34m,\u001b[0m\u001b[0mdump_all\u001b[0m\u001b[0;34m=\u001b[0m\u001b[0;32mTrue\u001b[0m\u001b[0;34m)\u001b[0m\u001b[0;34m\u001b[0m\u001b[0m\n\u001b[0m\u001b[1;32m     17\u001b[0m \u001b[0;34m\u001b[0m\u001b[0m\n\u001b[1;32m     18\u001b[0m \u001b[0;31m#     print(\"BBA AUDITOR RESULTS:\\n\")\u001b[0m\u001b[0;34m\u001b[0m\u001b[0;34m\u001b[0m\u001b[0m\n",
      "\u001b[0;32m~/tacc-work/jupyter_packages/lib/python3.6/site-packages/BlackBoxAuditing/BlackBoxAuditor.py\u001b[0m in \u001b[0;36m__call__\u001b[0;34m(self, data, output_dir, dump_all, features_to_audit)\u001b[0m\n\u001b[1;32m    155\u001b[0m           \u001b[0mwriter\u001b[0m\u001b[0;34m.\u001b[0m\u001b[0mwriterow\u001b[0m\u001b[0;34m(\u001b[0m\u001b[0mfile_headers\u001b[0m\u001b[0;34m)\u001b[0m\u001b[0;34m\u001b[0m\u001b[0m\n\u001b[1;32m    156\u001b[0m           \u001b[0;31m#stuff added cause code isnt working----\u001b[0m\u001b[0;34m\u001b[0m\u001b[0;34m\u001b[0m\u001b[0m\n\u001b[0;32m--> 157\u001b[0;31m           model_factory = self.ModelFactory(all_data, headers, response_header,\n\u001b[0m\u001b[1;32m    158\u001b[0m                                         \u001b[0mfeatures_to_ignore\u001b[0m\u001b[0;34m=\u001b[0m\u001b[0mfeatures_to_ignore\u001b[0m\u001b[0;34m,\u001b[0m\u001b[0;34m\u001b[0m\u001b[0m\n\u001b[1;32m    159\u001b[0m                                         options=self.model_options)  \n",
      "\u001b[0;31mUnboundLocalError\u001b[0m: local variable 'all_data' referenced before assignment"
     ]
    }
   ],
   "source": [
    "training = pd.concat([X_train,y_train],axis=1)\n",
    "test = pd.concat([X_test,y_test],axis=1)\n",
    "\n",
    "perform_bba_audit(training,test, df.columns[:-1],dct,col_to_predict=df.columns[-1])"
   ]
  },
  {
   "cell_type": "code",
   "execution_count": null,
   "metadata": {},
   "outputs": [],
   "source": []
  }
 ],
 "metadata": {
  "kernelspec": {
   "display_name": "Python 3",
   "language": "python",
   "name": "python3"
  },
  "language_info": {
   "codemirror_mode": {
    "name": "ipython",
    "version": 3
   },
   "file_extension": ".py",
   "mimetype": "text/x-python",
   "name": "python",
   "nbconvert_exporter": "python",
   "pygments_lexer": "ipython3",
   "version": "3.6.6"
  }
 },
 "nbformat": 4,
 "nbformat_minor": 2
}
