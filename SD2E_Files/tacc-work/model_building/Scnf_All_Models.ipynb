version https://git-lfs.github.com/spec/v1
oid sha256:209f372baa623a02bbf13483a4570bd4d932ba3b0290ee3915a89fbd84ae1833
size 642374
