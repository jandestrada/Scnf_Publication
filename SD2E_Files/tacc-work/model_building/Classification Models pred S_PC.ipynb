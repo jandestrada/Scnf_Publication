version https://git-lfs.github.com/spec/v1
oid sha256:595d64ec41837e5ce644e0833b7e87cfa3b95c662b14a0465489d2fd5f1f2d1b
size 1766833
