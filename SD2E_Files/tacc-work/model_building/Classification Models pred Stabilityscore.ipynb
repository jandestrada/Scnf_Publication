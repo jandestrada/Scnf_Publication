version https://git-lfs.github.com/spec/v1
oid sha256:c899b25bc384ac607f0062b4170246d647e67f361fe4e95e5aedd89da52c35d7
size 544701
