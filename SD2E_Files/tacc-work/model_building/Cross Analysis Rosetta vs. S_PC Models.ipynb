version https://git-lfs.github.com/spec/v1
oid sha256:c44b41015b8712c592b0ac0e552108a277e067097e393a222926ad9b19e51a12
size 109248
