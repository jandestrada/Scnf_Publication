version https://git-lfs.github.com/spec/v1
oid sha256:bfdc1714025b7a7bb9cb1e71b6968ba63fb35c8381ed5d58b98d6745ebacdde3
size 340095
