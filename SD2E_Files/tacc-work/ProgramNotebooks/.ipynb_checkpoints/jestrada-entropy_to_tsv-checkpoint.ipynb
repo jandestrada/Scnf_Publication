{
 "cells": [
  {
   "cell_type": "markdown",
   "metadata": {},
   "source": [
    "## This function will change the .entropy files to .tsv files\n",
    "\n",
    "* assumes directories that are inputted are already made\n",
    "* written using an explicit path that must be changed depending on computer"
   ]
  },
  {
   "cell_type": "code",
   "execution_count": 14,
   "metadata": {},
   "outputs": [],
   "source": [
    "import os\n",
    "from shutil import move\n",
    "\n",
    "#code written assuming path is '/home/jupyter/tacc-work/Jan/proteins.entropy/<file_dir>\n",
    "\n",
    "def entropy_to_tsv(file_dir,target_dir, library_name): #library_name is limited to Eva1, Eva2, Rocklin, Longxing, and Longxing_untested \n",
    "    \"\"\"\n",
    "    takes a file_dir and a target_dir as argument in order to convert \n",
    "    the previous directory's files into .tsv files. library_name must\n",
    "    also be specified. \n",
    "    \"\"\"\n",
    "    \n",
    "    #make sure you are at file_dir \n",
    "    path_name=''\n",
    "    if os.getcwd != '/home/jupyter/tacc-work/Jan/proteins.entropy/':\n",
    "        os.chdir('/home/jupyter/tacc-work/Jan/proteins.entropy/')\n",
    "        path_name = os.path.join(os.getcwd(),file_dir)\n",
    "    else:\n",
    "        path_name = os.path.join(os.getcwd(),file_dir)\n",
    "    \n",
    "    #create the file where the data will be written to\n",
    "    tsv_file=open((str(library_name)+'.tsv'),'w+')\n",
    "    tsv_file.write('filename'+'\\t'+'library'+'\\t'+'S_PC'+'\\t'+'reliability'+'\\t'+'Si values'+'\\n')\n",
    "    tsv_file.close()\n",
    "    \n",
    "    #iterature through file_dir\n",
    "    file_list = os.listdir(file_dir)\n",
    "                                    #print(\"file list is \",file_list)\n",
    "    for file in file_list:\n",
    "        if file[-8:]== '.entropy':\n",
    "                                    #print(\"File is ===== \", file)\n",
    "                                    #print(\"File_dir is ==== \", file_dir)\n",
    "                                    #print(\"File type is ====\", type(file))\n",
    "                                    #print(\"I am currently in ===\", os.getcwd())\n",
    "            \n",
    "            #create filename\n",
    "            name = os.path.splitext(file)\n",
    "            filename=str(name[0])+'.pdb'\n",
    "                                            #print('filename is',filename)\n",
    "\n",
    "\n",
    "            #open file\n",
    "            file_object = open(os.path.join(path_name,file), 'r')\n",
    "\n",
    "            #define variabe for S_PC, reliability_n, Si_list\n",
    "            S_PC = 0\n",
    "            reliability_n = 0\n",
    "            Si_list = []\n",
    "            \n",
    "            #iterate through lines in file\n",
    "            for line in file_object:\n",
    "                                                            #print(line)\n",
    "               \n",
    "                                                            #print('line [:10] -- Si_value -- is <',line[:10],'>')\n",
    "                                                            #print('line [:4] -- S_PC -- is <',line[:4],'>')\n",
    "                                                            #print('line [:25] -- Reliability_n -- is <',line[:25],'>')\n",
    "\n",
    "                #extract Si-predict values and create a list for them\n",
    "                if line[:10]=='Si-predict':\n",
    "                    Si_value=line[22:29]\n",
    "                    new_Si=Si_value.strip()\n",
    "                    Si_list.append(new_Si)\n",
    "                                                        #print('current Si_list --- >',Si_list)\n",
    "                #extract S_PC value\n",
    "                if line[:4]=='S_PC':\n",
    "                    S_PC = line[15:-1]\n",
    "                                                        #print('current S_PC --- >',S_PC)\n",
    "                #extract reliability number\n",
    "                if line[:25] == 'Reliability-number lambda':\n",
    "                    reliability_n=line[27:-1]\n",
    "                                                        #print('current reliability_n',reliability_n)\n",
    "            #create a tsv list of Si_list values\n",
    "            final_Si_list='\\t'.join(Si_list)\n",
    "                                                        #print('final_Si_list',final_Si_list)\n",
    "                                                        #print(\"final S_PC = \",S_PC)\n",
    "                                                        #print(\"final reliab = \",reliability_n)\n",
    "                                                        #print('len of Si_list = ',len(final_Si_list))\n",
    "            \n",
    "            #write a line in a new tsv file in the format: 'name \\t library \\t S_PC \\t reliability_n \\t final_Si_list\n",
    "            f=open((str(library_name)+'.tsv'),'a')\n",
    "            f.write(filename+'\\t'+str(library_name)+'\\t'+str(S_PC)+'\\t'+str(reliability_n)+'\\t'+final_Si_list+'\\n')\n",
    "            f.close()\n",
    "            \n",
    "            #close file\n",
    "            file_object.close()\n",
    "    \n",
    "    #move file to target_dir\n",
    "                                                #print(\"os.getcwd() is \",os.getcwd(),\" tsv_file is: \", tsv_file)\n",
    "    src=os.path.join(str(os.getcwd()),((str(library_name)+'.tsv')))\n",
    "                                                #print('src is',src)\n",
    "    dst=os.path.join('/home/jupyter/tacc-work/Jan/proteins.tsv/',library_name+'.tsv')\n",
    "                                                #print('dst is',dst)\n",
    "    move(src, dst)\n"
   ]
  },
  {
   "cell_type": "markdown",
   "metadata": {},
   "source": [
    "## Ran the code for a test directory"
   ]
  },
  {
   "cell_type": "code",
   "execution_count": 19,
   "metadata": {
    "scrolled": false
   },
   "outputs": [],
   "source": [
    "entropy_to_tsv('tests','proteins.tsv','Test')"
   ]
  },
  {
   "cell_type": "markdown",
   "metadata": {},
   "source": [
    "## Ran the code on `Eva_data1`"
   ]
  },
  {
   "cell_type": "code",
   "execution_count": 18,
   "metadata": {},
   "outputs": [],
   "source": [
    "entropy_to_tsv('Eva_data1.entropy','proteins.tsv','Eva1')"
   ]
  },
  {
   "cell_type": "markdown",
   "metadata": {},
   "source": [
    "## Ran the code on `Eva_data2`"
   ]
  },
  {
   "cell_type": "code",
   "execution_count": null,
   "metadata": {},
   "outputs": [],
   "source": [
    "entropy_to_tsv('Eva_data2.entropy','proteins.tsv','Eva2')"
   ]
  },
  {
   "cell_type": "markdown",
   "metadata": {},
   "source": [
    "## Ran the code on `Inna`"
   ]
  },
  {
   "cell_type": "code",
   "execution_count": null,
   "metadata": {},
   "outputs": [],
   "source": [
    "entropy_to_tsv('Inna.entropy','proteins.tsv','Inna')"
   ]
  },
  {
   "cell_type": "markdown",
   "metadata": {},
   "source": [
    "## Ran the code on `Longxing`"
   ]
  },
  {
   "cell_type": "code",
   "execution_count": null,
   "metadata": {},
   "outputs": [],
   "source": [
    "entropy_to_tsv('Longxing.entropy','proteins.tsv','Longxing')"
   ]
  },
  {
   "cell_type": "markdown",
   "metadata": {},
   "source": [
    "## Ran the code on `Longxing_untested`"
   ]
  },
  {
   "cell_type": "code",
   "execution_count": null,
   "metadata": {},
   "outputs": [],
   "source": [
    "entropy_to_tsv('Longxing_untested.entropy','proteins.tsv','Longxing_untested')"
   ]
  },
  {
   "cell_type": "markdown",
   "metadata": {},
   "source": [
    "## Ran the code on `Rocklin`"
   ]
  },
  {
   "cell_type": "code",
   "execution_count": null,
   "metadata": {},
   "outputs": [],
   "source": [
    "entropy_to_tsv('Rocklin.entropy','proteins.tsv','Rocklin')"
   ]
  }
 ],
 "metadata": {
  "kernelspec": {
   "display_name": "Python 3",
   "language": "python",
   "name": "python3"
  },
  "language_info": {
   "codemirror_mode": {
    "name": "ipython",
    "version": 3
   },
   "file_extension": ".py",
   "mimetype": "text/x-python",
   "name": "python",
   "nbconvert_exporter": "python",
   "pygments_lexer": "ipython3",
   "version": "3.6.5"
  }
 },
 "nbformat": 4,
 "nbformat_minor": 2
}
