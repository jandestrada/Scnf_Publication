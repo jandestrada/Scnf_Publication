version https://git-lfs.github.com/spec/v1
oid sha256:47e12b28fea824501fb6542be791a0e071411516bd51befda6c57b2637e13687
size 3715658
