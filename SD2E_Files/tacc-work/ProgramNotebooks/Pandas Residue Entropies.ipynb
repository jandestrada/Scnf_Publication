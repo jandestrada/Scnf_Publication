version https://git-lfs.github.com/spec/v1
oid sha256:8bb69e4da8243ae8ec9acb42caa6d302396a1f3da5285f61984f73caa3d04ee1
size 233916
