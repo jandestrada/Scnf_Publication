version https://git-lfs.github.com/spec/v1
oid sha256:7661e0d332f67abcb82c12c8d4ed69c13ca5ac688d35f0b5c3e447a8f7594578
size 46356
