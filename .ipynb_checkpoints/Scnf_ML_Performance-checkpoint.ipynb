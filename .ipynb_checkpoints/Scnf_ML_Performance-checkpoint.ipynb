{
 "cells": [
  {
   "cell_type": "code",
   "execution_count": 1,
   "metadata": {},
   "outputs": [],
   "source": [
    "import pandas as pd\n",
    "from HelperFunctions.model_performance import *\n",
    "from HelperFunctions.feature_visualizations import *\n",
    "import matplotlib.pyplot as plt\n",
    "import seaborn as sns\n",
    "import numpy as np\n",
    "%matplotlib inline"
   ]
  },
  {
   "cell_type": "code",
   "execution_count": null,
   "metadata": {},
   "outputs": [],
   "source": [
    "data"
   ]
  },
  {
   "cell_type": "markdown",
   "metadata": {},
   "source": [
    "----------------------"
   ]
  },
  {
   "cell_type": "markdown",
   "metadata": {},
   "source": [
    "# Change in Test Statistics Across 100 Iterations of Test Harness runs with Random Forest Classifier"
   ]
  },
  {
   "cell_type": "markdown",
   "metadata": {},
   "source": [
    "----------------------"
   ]
  },
  {
   "cell_type": "markdown",
   "metadata": {},
   "source": [
    "\n",
    "**_The Test Harness_**\n",
    "\n",
    "In order to carry out machine learning iterations at a large scale, the [TestHarness](https://gitlab.sd2e.org/sd2program/test-harness) was used. It includes automatic model performance testing, consistent data formatting, and data split flexibility. \n",
    "\n",
    "The test harness includes two methods: **run_custom** and **loo_run**; customized model run and LeaveOneOut model run, where the model is trained on all topologies except one that is left out for testing. \n",
    "\n",
    "**Test Statistics**\n",
    "\n",
    "In classification problems, test statistics consist of **True Positive (TP)** (predicted: `True`, actual value: `True`), **True Negative (TN)** (predicted: `False`, actual value: `False`), **False Positive (FP)** (predicted: `True`, actual value:`False`), and **False Negative (FN)** (predicted: `False`, actual value: `True`). ]\n",
    "\n",
    "In terms of protein design, __a False Positive could be considered riskier__ since it entails an investment of resources into a protein that will not be stable. Reducing FP rates could lead to a more cost efficient process in protein development."
   ]
  },
  {
   "cell_type": "code",
   "execution_count": null,
   "metadata": {},
   "outputs": [],
   "source": [
    "#load leaderboard\n",
    "leaderboard = pd.read_html('./data/cross_val_tptn_classification_leaderboard.html')[0]\n",
    "\n",
    "#get names of rosetta runs\n",
    "rosetta_runs = leaderboard[leaderboard['Data and Split Description']=='R']\n",
    "rosetta_runs_names = list(rosetta_runs['Run ID'].values)\n",
    "\n",
    "#get names of R+S runs\n",
    "entropy_rosetta_runs = leaderboard[leaderboard['Data and Split Description']=='RS']\n",
    "entropy_rosetta_runs_names = list(entropy_rosetta_runs['Run ID'].values)"
   ]
  },
  {
   "cell_type": "markdown",
   "metadata": {},
   "source": [
    "### Rosetta Model Test Statistics data extraction"
   ]
  },
  {
   "cell_type": "code",
   "execution_count": null,
   "metadata": {},
   "outputs": [],
   "source": [
    "# \"R\" Model\n",
    "\n",
    "#initialize dataframe that will contain data\n",
    "ros_df = pd.DataFrame()\n",
    "ros_df['TP Count'] = []\n",
    "ros_df['FP Count'] = []\n",
    "ros_df['TN Count'] = []\n",
    "ros_df['FN Count'] = []\n",
    "\n",
    "#initialize empty lists for data\n",
    "ros_tp_data = []\n",
    "ros_tn_data = []\n",
    "ros_fp_data = []\n",
    "ros_fn_data = []\n",
    "\n",
    "#loop through files\n",
    "for run_name in rosetta_runs_names:\n",
    "    df = pd.read_csv('./test_harness_runs/tptn_runs/run_%s/testing_data.csv'%run_name)\n",
    "    tp,tn,fp,fn = get_tptn_data(df)\n",
    "\n",
    "    #update the lists\n",
    "    ros_tp_data.append(tp)\n",
    "    ros_tn_data.append(tn)\n",
    "    ros_fp_data.append(fp)\n",
    "    ros_fn_data.append(fn)\n",
    "\n",
    "#construct final dataframe\n",
    "ros_df['TP Count'] = ros_tp_data\n",
    "ros_df['FP Count'] = ros_fp_data\n",
    "ros_df['FN Count'] = ros_fn_data\n",
    "ros_df['TN Count'] = ros_tn_data"
   ]
  },
  {
   "cell_type": "code",
   "execution_count": null,
   "metadata": {},
   "outputs": [],
   "source": [
    "ros_df.describe()"
   ]
  },
  {
   "cell_type": "markdown",
   "metadata": {},
   "source": [
    "### Rosetta+Entropy Model Test Statistics data extraction"
   ]
  },
  {
   "cell_type": "code",
   "execution_count": null,
   "metadata": {},
   "outputs": [],
   "source": [
    "# \"R+S\" Model\n",
    "\n",
    "#initialize dataframe that will contain data\n",
    "spc_df = pd.DataFrame()\n",
    "spc_df['TP Count'] = []\n",
    "spc_df['FP Count'] = []\n",
    "spc_df['TN Count'] = []\n",
    "spc_df['FN Count'] = []\n",
    "\n",
    "#initialize empty lists for data\n",
    "spc_tp_data = []\n",
    "spc_tn_data = []\n",
    "spc_fp_data = []\n",
    "spc_fn_data = []\n",
    "\n",
    "#loop through files\n",
    "for run_name in entropy_rosetta_runs_names:\n",
    "    df = pd.read_csv('./test_harness_runs/tptn_runs/run_%s/testing_data.csv'%run_name)\n",
    "    tp,tn,fp,fn = get_tptn_data(df)\n",
    "\n",
    "    #update the lists\n",
    "    spc_tp_data.append(tp)\n",
    "    spc_tn_data.append(tn)\n",
    "    spc_fp_data.append(fp)\n",
    "    spc_fn_data.append(fn)\n",
    "\n",
    "#construct final dataframe\n",
    "spc_df['TP Count'] = spc_tp_data\n",
    "spc_df['FP Count'] = spc_fp_data\n",
    "spc_df['FN Count'] = spc_fn_data\n",
    "spc_df['TN Count'] = spc_tn_data"
   ]
  },
  {
   "cell_type": "code",
   "execution_count": null,
   "metadata": {},
   "outputs": [],
   "source": [
    "spc_df.describe()"
   ]
  },
  {
   "cell_type": "code",
   "execution_count": null,
   "metadata": {},
   "outputs": [],
   "source": [
    "results = spc_df.describe() - ros_df.describe()\n",
    "results.iloc[1,:]"
   ]
  },
  {
   "cell_type": "markdown",
   "metadata": {},
   "source": [
    "----------------------------"
   ]
  },
  {
   "cell_type": "markdown",
   "metadata": {},
   "source": [
    "# Leave One Out Runs\n",
    "**_Highlight results from the graphs/data_**\n",
    "In principle, a Leave One Out (LOO) run's model performance will show how generalizable the model is by showing how its learned pattern could apply to unknown protein structures. \n",
    "\n",
    "From the graphs below, the Random Forest Classifier results show `insert significant results here!!!`. \n",
    "The Random Forest Regressor results how `insert more significant results here`. "
   ]
  },
  {
   "cell_type": "markdown",
   "metadata": {},
   "source": [
    "--------------------------"
   ]
  },
  {
   "cell_type": "code",
   "execution_count": null,
   "metadata": {},
   "outputs": [],
   "source": [
    "data = pd.read_csv('./data/df_aggregated_spc.csv')\n",
    "spc_features = pd.read_csv('./data/entropy_features.csv').iloc[:,0].values.tolist()\n",
    "ros_features = pd.read_csv('./data/rosetta_features.csv').iloc[:,0].values.tolist()"
   ]
  },
  {
   "cell_type": "markdown",
   "metadata": {},
   "source": [
    "### Classifier Results\n",
    "**N.B.: must have matplotlib v. 3.0.3**"
   ]
  },
  {
   "cell_type": "code",
   "execution_count": null,
   "metadata": {},
   "outputs": [],
   "source": [
    "overall_results(\n",
    "    file_path=\"./data/loo_detailed_classification_leaderboard.html\",\n",
    "    loo_run=True,\n",
    "    topology_run=False,\n",
    "    general_run=False,\n",
    "    model_description_column='Data and Split Description',\n",
    "    metric='clf'\n",
    "               )"
   ]
  },
  {
   "cell_type": "markdown",
   "metadata": {},
   "source": [
    "### Regressor Results"
   ]
  },
  {
   "cell_type": "code",
   "execution_count": null,
   "metadata": {},
   "outputs": [],
   "source": [
    "overall_results(\n",
    "    file_path=\"./data/loo_detailed_regression_leaderboard.html\",\n",
    "    loo_run=True,\n",
    "    topology_run=False,\n",
    "    general_run=False,\n",
    "    model_description_column='Data and Split Description',\n",
    "    metric='rgr')"
   ]
  },
  {
   "cell_type": "code",
   "execution_count": null,
   "metadata": {},
   "outputs": [],
   "source": [
    "# load leaderboard with LOO Runs results\n",
    "loo_leaderboard_rgr = pd.read_html(\"./data/loo_detailed_regression_leaderboard.html\")[0]\n",
    "\n",
    "# create a dataframe that contains R+S data\n",
    "loo_rgr_rs = loo_leaderboard_rgr[loo_leaderboard_rgr['Data and Split Description']=='RS']\n",
    "# create a dataframe that contains R data\n",
    "loo_rgr_r = loo_leaderboard_rgr[loo_leaderboard_rgr['Data and Split Description']=='R']\n",
    "# create a dataframe that contains S data\n",
    "loo_rgr_s = loo_leaderboard_rgr[loo_leaderboard_rgr['Data and Split Description']=='S']"
   ]
  },
  {
   "cell_type": "markdown",
   "metadata": {},
   "source": [
    "----------------------------"
   ]
  },
  {
   "cell_type": "markdown",
   "metadata": {},
   "source": [
    "# Topology Specific Runs\n",
    "\n",
    "**TODO**:\n",
    "- explain what a topology specific run is\n",
    "- highlight results from the graphs/data"
   ]
  },
  {
   "cell_type": "markdown",
   "metadata": {},
   "source": [
    "--------------------------"
   ]
  },
  {
   "cell_type": "markdown",
   "metadata": {},
   "source": [
    "### Classifier Results"
   ]
  },
  {
   "cell_type": "code",
   "execution_count": null,
   "metadata": {},
   "outputs": [],
   "source": [
    "positions_original = list(range(11))\n",
    "\n",
    "positions_new = []\n",
    "for i in range(len(top_rs['topology'].unique())): \n",
    "    topology = top_rs['topology'].unique()[i]\n",
    "    sub = top_rs[top_rs['topology']==topology]\n",
    "    multiplier = len(sub)\n",
    "    positions_new.append([positions_original[i]]*multiplier)\n",
    "\n",
    "#since positions_new was a nested list, break it apart with this for loop\n",
    "positions_new = [item for l in positions_new for item in l]\n",
    "    "
   ]
  },
  {
   "cell_type": "code",
   "execution_count": null,
   "metadata": {
    "scrolled": true
   },
   "outputs": [],
   "source": [
    "overall_results(\n",
    "    file_path=\"./data/topology_specified_classification_leaderboard.html\",\n",
    "    loo_run=False,\n",
    "    topology_run=True,\n",
    "    general_run=False,\n",
    "    model_description_column='Data and Split Description',\n",
    "    metric='clf'\n",
    "               )"
   ]
  },
  {
   "cell_type": "code",
   "execution_count": 3,
   "metadata": {},
   "outputs": [],
   "source": [
    "def labels_to_list(series):\n",
    "\n",
    "    positions_original = list(range(11))\n",
    "    positions_new = []\n",
    "    for i in range(len(series.unique())): \n",
    "        topology = series.unique()[i]\n",
    "        sub = series[series==topology]\n",
    "        multiplier = len(sub)\n",
    "        positions_new.append([positions_original[i]]*multiplier)\n",
    "\n",
    "    #since positions_new was a nested list, break it apart with this for loop\n",
    "    positions = [item for l in positions_new for item in l]\n",
    "    return positions"
   ]
  },
  {
   "cell_type": "code",
   "execution_count": null,
   "metadata": {},
   "outputs": [],
   "source": [
    "file_path = \"./data/topology_specified_classification_leaderboard.html\"\n",
    "model_description_column = 'Data and Split Description'\n",
    "leaderboard_dataframe = pd.read_html(file_path)[0]\n",
    "\n",
    "\n",
    "# make an rs, r, and s subset\n",
    "dataframe_rs = leaderboard_dataframe[\n",
    "    leaderboard_dataframe[model_description_column]=='RS']\n",
    "dataframe_r = leaderboard_dataframe[\n",
    "    leaderboard_dataframe[model_description_column]=='R']\n",
    "dataframe_s = leaderboard_dataframe[\n",
    "    leaderboard_dataframe[model_description_column]=='S']\n",
    "\n",
    "variables_name = 'topology'\n",
    "df_topology = make_topologies_list(file_path)\n",
    "\n",
    "tuple_of_list_and_metric = (df_topology,'clf') \n",
    "\n",
    "\n",
    "topology_list_df = tuple_of_list_and_metric[0]\n",
    "score_metric = tuple_of_list_and_metric[1]\n",
    "\n",
    "clf_scores_names = [\n",
    "            'Balanced Accuracy',\n",
    "            'Precision',\n",
    "            'Recall']\n",
    "\n",
    "\n",
    "metric_list = clf_scores_names\n",
    "\n",
    "\n",
    "top_rs = topology_list_df[topology_list_df['model']=='RS']\n",
    "top_r = topology_list_df[topology_list_df['model']=='R']\n",
    "top_s = topology_list_df[topology_list_df['model']=='S']\n",
    "\n",
    "\n",
    "\n",
    "# sort dataframes for plots\n",
    "top_rs = top_rs.sort_values(by='Samples In Test',ascending=False)\n",
    "top_r = top_r.sort_values(by='Samples In Test',ascending=False)\n",
    "top_s = top_s.sort_values(by='Samples In Test',ascending=False)\n",
    "\n",
    "\n",
    "\n",
    "positions_rs = labels_to_list(top_rs['topology'])\n",
    "positions_r = labels_to_list(top_r['topology'])\n",
    "positions_s = labels_to_list(top_s['topology'])\n",
    "\n",
    "##########################################\n",
    "offset = [-.1,0,.1]\n",
    "labels = top_rs['topology'].values\n",
    "\n",
    "sns.set(rc={'figure.figsize':(35,15)})\n",
    "sns.set_style('white')\n",
    "\n",
    "fig,ax = plt.subplots(sharex=True)\n",
    "\n",
    "\n",
    "ax.set_xticks(np.arange(-0.1,11,0.1))\n",
    "sns.barplot(\n",
    "        x=positions_rs,\n",
    "        y=top_rs['Samples In Test'],\n",
    "        ax=ax,\n",
    "        color='white',\n",
    "        edgecolor='black',\n",
    "        linewidth=4)\n",
    "sns.barplot(\n",
    "        x=positions_r,\n",
    "        y=top_r['Samples In Test'],\n",
    "        ax=ax,\n",
    "        color='white',\n",
    "        edgecolor='black',\n",
    "        linewidth=4)\n",
    "sns.barplot(\n",
    "        x=positions_s,\n",
    "        y=top_s['Samples In Test'],\n",
    "        ax=ax,color='white',\n",
    "        edgecolor='black',\n",
    "        linewidth=4)\n",
    "\n",
    "\n",
    "\n",
    "#makes a second y axis\n",
    "ax2 = ax.twinx()\n",
    "ax3 = ax.twinx()\n",
    "ax4 = ax.twinx()\n",
    "\n",
    "\n",
    "ax_list = [ax2,ax3,ax4]\n",
    "\n",
    "\n",
    "score_rs = top_rs[metric_list[i]].values\n",
    "score_r = top_r[metric_list[i]].values\n",
    "score_s = top_s[metric_list[i]].values"
   ]
  },
  {
   "cell_type": "code",
   "execution_count": null,
   "metadata": {},
   "outputs": [],
   "source": [
    "#     print(\"RS:\\n %s\"%[x+offset[i] for x in positions_rs])\n",
    "sns.pointplot(\n",
    "    x=[x+offset[0] for x in positions_rs],\n",
    "    y=score_rs,\n",
    "    color='blue',\n",
    "    join=False,\n",
    "    scale=1,\n",
    "    ax=ax_list[0])\n",
    "\n",
    "\n",
    "#     print(\"R:\\n %s\"%[x+offset[i] for x in positions_r])\n",
    "sns.pointplot(\n",
    "    x=[x+offset[0] for x in positions_r],\n",
    "    y=score_r,\n",
    "    color='orange',\n",
    "    join=False,\n",
    "    scale=1,\n",
    "    ax=ax_list[0])\n",
    "\n",
    "\n",
    "#     print(\"S:\\n %s\"%[x+offset[i] for x in positions_s])\n",
    "sns.pointplot(\n",
    "    x=[x+offset[0] for x in positions_s],\n",
    "    y=score_s,\n",
    "    color='green',\n",
    "    join=False,\n",
    "    scale=1,\n",
    "    ax=ax_list[0])"
   ]
  },
  {
   "cell_type": "code",
   "execution_count": null,
   "metadata": {},
   "outputs": [],
   "source": [
    "#     print(\"RS:\\n %s\"%[x+offset[i] for x in positions_rs])\n",
    "sns.pointplot(\n",
    "    x=[x+offset[1] for x in positions_rs],\n",
    "    y=score_rs,\n",
    "    color='blue',\n",
    "    join=False,\n",
    "    scale=1,\n",
    "    ax=ax_list[1])\n",
    "\n",
    "\n",
    "#     print(\"R:\\n %s\"%[x+offset[i] for x in positions_r])\n",
    "sns.pointplot(\n",
    "    x=[x+offset[1] for x in positions_r],\n",
    "    y=score_r,\n",
    "    color='orange',\n",
    "    join=False,\n",
    "    scale=1,\n",
    "    ax=ax_list[1])\n",
    "\n",
    "\n",
    "#     print(\"S:\\n %s\"%[x+offset[i] for x in positions_s])\n",
    "sns.pointplot(\n",
    "    x=[x+offset[1] for x in positions_s],\n",
    "    y=score_s,\n",
    "    color='green',\n",
    "    join=False,\n",
    "    scale=1,\n",
    "    ax=ax_list[1])"
   ]
  },
  {
   "cell_type": "code",
   "execution_count": null,
   "metadata": {},
   "outputs": [],
   "source": [
    "#     print(\"RS:\\n %s\"%[x+offset[i] for x in positions_rs])\n",
    "sns.pointplot(\n",
    "    x=[x+offset[2] for x in positions_rs],\n",
    "    y=score_rs,\n",
    "    color='blue',\n",
    "    join=False,\n",
    "    scale=1,\n",
    "    ax=ax_list[2])\n",
    "\n",
    "\n",
    "#     print(\"R:\\n %s\"%[x+offset[i] for x in positions_r])\n",
    "sns.pointplot(\n",
    "    x=[x+offset[2] for x in positions_r],\n",
    "    y=score_r,\n",
    "    color='orange',\n",
    "    join=False,\n",
    "    scale=1,\n",
    "    ax=ax_list[2])\n",
    "\n",
    "\n",
    "#     print(\"S:\\n %s\"%[x+offset[i] for x in positions_s])\n",
    "sns.pointplot(\n",
    "    x=[x+offset[0] for x in positions_s],\n",
    "    y=score_s,\n",
    "    color='green',\n",
    "    join=False,\n",
    "    scale=1,\n",
    "    ax=ax_list[2])"
   ]
  },
  {
   "cell_type": "code",
   "execution_count": 9,
   "metadata": {},
   "outputs": [
    {
     "name": "stdout",
     "output_type": "stream",
     "text": [
      "HEEH          117\n",
      "4h            117\n",
      "ferredoxin    115\n",
      "HHH           114\n",
      "EEHEE         114\n",
      "EHEE          111\n",
      "fold4         105\n",
      "beta_grasp    105\n",
      "fold2         105\n",
      "coil          105\n",
      "thio          105\n",
      "Name: topology, dtype: int64\n"
     ]
    },
    {
     "data": {
      "image/png": "[encoded data removed]",
      "text/plain": [
       "<Figure size 2520x1080 with 4 Axes>"
      ]
     },
     "metadata": {},
     "output_type": "display_data"
    }
   ],
   "source": [
    "plt.show()\n",
    "    #plt.close('all')"
   ]
  },
  {
   "cell_type": "code",
   "execution_count": null,
   "metadata": {},
   "outputs": [],
   "source": []
  },
  {
   "cell_type": "code",
   "execution_count": 6,
   "metadata": {},
   "outputs": [
    {
     "data": {
      "text/plain": [
       "array([ 0,  1,  2,  3,  4,  5,  6,  7,  8,  9, 10])"
      ]
     },
     "execution_count": 6,
     "metadata": {},
     "output_type": "execute_result"
    }
   ],
   "source": [
    "ax.get_xticks()"
   ]
  },
  {
   "cell_type": "markdown",
   "metadata": {},
   "source": [
    "### Regressor Results"
   ]
  },
  {
   "cell_type": "code",
   "execution_count": null,
   "metadata": {},
   "outputs": [],
   "source": [
    "overall_results(\n",
    "    file_path=\"./data/topology_specified_regression_leaderboard.html\",\n",
    "    loo_run=False,\n",
    "    topology_run=True,\n",
    "    general_run=False,\n",
    "    model_description_column='Data and Split Description',\n",
    "    metric='rgr')"
   ]
  },
  {
   "cell_type": "markdown",
   "metadata": {},
   "source": [
    "------------"
   ]
  },
  {
   "cell_type": "markdown",
   "metadata": {},
   "source": [
    "# Model Audits"
   ]
  },
  {
   "cell_type": "markdown",
   "metadata": {},
   "source": [
    "--------------------"
   ]
  },
  {
   "cell_type": "markdown",
   "metadata": {},
   "source": [
    "**TODO**:\n",
    "- explain the reasoning for model audits\n",
    "- explain what SHAP measures\n",
    "- explain what BBA measures"
   ]
  },
  {
   "cell_type": "markdown",
   "metadata": {},
   "source": [
    "## SHAP\n",
    "* genModel == Random Forest model which included all topologies in training and testing"
   ]
  },
  {
   "cell_type": "markdown",
   "metadata": {},
   "source": [
    "### Generalized Models"
   ]
  },
  {
   "cell_type": "code",
   "execution_count": null,
   "metadata": {},
   "outputs": [],
   "source": [
    "#load names for entropy and rosetta features\n",
    "ros_features = pd.read_csv('./data/rosetta_features.csv')[\"0\"].to_list()\n",
    "spc_features = pd.read_csv('./data/entropy_features.csv')[\"0\"].to_list()\n",
    "\n",
    "genModel_clf_shap = pd.read_csv('./data/model_audits/SHAP_genModel_clf_feature_importances.csv')\n",
    "genModel_clf_shap['is_rosetta'] = genModel_clf_shap[\"Feature\"].isin(ros_features)\n",
    "\n",
    "genModel_rgr_shap = pd.read_csv('./data/model_audits/SHAP_genModel_rgr_feature_importances.csv')\n",
    "genModel_rgr_shap['is_rosetta'] = genModel_rgr_shap[\"Feature\"].isin(ros_features)\n"
   ]
  },
  {
   "cell_type": "code",
   "execution_count": null,
   "metadata": {},
   "outputs": [],
   "source": [
    "#classifier model results\n",
    "genModel_clf_shap[genModel_clf_shap['is_rosetta']==False]"
   ]
  },
  {
   "cell_type": "code",
   "execution_count": null,
   "metadata": {},
   "outputs": [],
   "source": [
    "#regressor model results\n",
    "genModel_rgr_shap[genModel_rgr_shap['is_rosetta']==False]"
   ]
  },
  {
   "cell_type": "markdown",
   "metadata": {},
   "source": [
    "### Topology Specific Models"
   ]
  },
  {
   "cell_type": "code",
   "execution_count": null,
   "metadata": {},
   "outputs": [],
   "source": [
    "# load audit files\n",
    "shap_4h_clf = pd.read_csv('./data/model_audits/SHAP_4h_clf_feature_importances.csv')\n",
    "shap_betag_clf = pd.read_csv('./data/model_audits/SHAP_beta_grasp_clf_feature_importances.csv')\n",
    "shap_coil_clf = pd.read_csv('./data/model_audits/SHAP_coil_clf_feature_importances.csv')\n",
    "shap_EEHEE_clf = pd.read_csv('./data/model_audits/SHAP_EEHEE_clf_feature_importances.csv')\n",
    "shap_EHEE_clf = pd.read_csv('./data/model_audits/SHAP_EHEE_clf_feature_importances.csv')\n",
    "shap_ferr_clf = pd.read_csv('./data/model_audits/SHAP_ferredoxin_clf_feature_importances.csv')\n",
    "shap_fold2_clf = pd.read_csv('./data/model_audits/SHAP_fold2_clf_feature_importances.csv')\n",
    "shap_fold4_clf = pd.read_csv('./data/model_audits/SHAP_fold4_clf_feature_importances.csv')\n",
    "shap_HEEH_clf = pd.read_csv('./data/model_audits/SHAP_HEEH_clf_feature_importances.csv')\n",
    "shap_HHH_clf = pd.read_csv('./data/model_audits/SHAP_HHH_clf_feature_importances.csv')\n",
    "shap_thio_clf = pd.read_csv('./data/model_audits/SHAP_thio_clf_feature_importances.csv')\n",
    "\n",
    "# create a list with all results and corresponding topology names\n",
    "shap_df_list = [\n",
    "    shap_4h_clf,shap_betag_clf,shap_coil_clf,shap_EEHEE_clf,\n",
    "    shap_EHEE_clf,shap_ferr_clf,shap_fold2_clf,shap_fold4_clf,\n",
    "    shap_HEEH_clf,shap_HHH_clf,shap_thio_clf\n",
    "]\n",
    "shap_df_list_names = ['4h','beta_grasp','coil','EEHEE','EHEE','ferredoxin','fold2','fold4','HEEH','HHH','thio']"
   ]
  },
  {
   "cell_type": "code",
   "execution_count": null,
   "metadata": {
    "scrolled": true
   },
   "outputs": [],
   "source": [
    "# uncomment below if you want to see the numbers per each topology \n",
    "\n",
    "# for i in range(len(shap_df_list)):\n",
    "#     print(\"Topology: %s\"%shap_df_list_names[i])\n",
    "#     print(rank_features(shap_df_list[i],just_entropy=True))\n",
    "#     print(\"\")\n",
    "\n",
    "\n",
    "## create subplots with a horizontal barplot for each topology, sorted by Feature name\n",
    "## Extract where in the percentile the entropy features are, for a future visualization\n",
    "\n",
    "#initialize subplots and create empty list for extracting \n",
    "index = shap_df_list_names\n",
    "data = []\n",
    "sns.set_style('white')\n",
    "f,ax = plt.subplots(nrows=1,ncols=len(shap_df_list),figsize=(20,60))\n",
    "\n",
    "\n",
    "for i in range(len(shap_df_list)): #iterate through each topology's feature importance\n",
    "    #extract percentiles data\n",
    "    df = shap_df_list[i]\n",
    "    data.append(get_count_percentiles_list(df)) # 'get_count_percentiles' returns a list of the number of entropy features in a given percentile list\n",
    "    \n",
    "    #plot results from current audit\n",
    "    plot_data = df.sort_values('Feature',ascending=False)\n",
    "    ax[i].barh(width=plot_data['Importance'],y=plot_data['Feature'])\n",
    "    ax[i].set_title(\"%s\"%shap_df_list_names[i],fontsize=\"20\")\n",
    "    ax[i].get_yaxis().set_visible(False)\n",
    "\n",
    "ax[0].get_yaxis().set_visible(True)\n",
    "    \n",
    "summary_df = pd.DataFrame(data=data,index=index,columns=['35th','50th','75th','85th'])"
   ]
  },
  {
   "cell_type": "code",
   "execution_count": null,
   "metadata": {},
   "outputs": [],
   "source": [
    "plt.close('all')\n",
    "sns.set_style('white')\n",
    "f, ax = plt.subplots(figsize=(20,15))\n",
    "\n",
    "#plot the percentiles count\n",
    "summary_df.plot(kind='bar',facecolor='none',edgecolor='black',ax=ax)\n",
    "\n",
    "#label the graph\n",
    "sns.set_style('white')\n",
    "ax.grid(False)\n",
    "plt.xticks(rotation=0,fontsize='25')\n",
    "plt.yticks(fontsize='15')\n",
    "plt.ylabel('Number of features in given percentile',fontsize='25')\n",
    "plt.title('Importance of entropy features for topology specific model per SHAP',fontsize='35')\n",
    "\n",
    "bars = ax.patches\n",
    "\n",
    "\n",
    "# Define some hatches\n",
    "hatches = ['-', '\\\\', 'x',\"*\"]\n",
    "\n",
    "dash_bars_inx = list(range(11))\n",
    "slash_bars_inx = list(range(11,22))\n",
    "x_bars_inx = list(range(22,33))\n",
    "asterisk_bars_inx = list(range(33,44))\n",
    "\n",
    "inx_list = [dash_bars_inx,slash_bars_inx,x_bars_inx,asterisk_bars_inx]\n",
    "\n",
    "#change colors in graph to hatches\n",
    "for i in range(len(inx_list)):\n",
    "    hatch_type = hatches[i]\n",
    "    for j in inx_list[i]:\n",
    "        bars[j].set_hatch(hatch_type)\n",
    "        \n",
    "plt.legend(fontsize='18')\n",
    "\n",
    "plt.show()"
   ]
  },
  {
   "cell_type": "markdown",
   "metadata": {},
   "source": [
    "## BlackBoxAuditing (BBA)"
   ]
  },
  {
   "cell_type": "markdown",
   "metadata": {},
   "source": [
    "### Generalized Models"
   ]
  },
  {
   "cell_type": "code",
   "execution_count": null,
   "metadata": {},
   "outputs": [],
   "source": [
    "genModel_clf_bba = pd.read_csv('./data/model_audits/BBA_genModel_clf_feature_importances.csv')\n",
    "genModel_clf_bba['is_rosetta'] = genModel_clf_bba[\"Feature\"].isin(ros_features)\n",
    "\n",
    "#classifier model results\n",
    "genModel_clf_bba[genModel_clf_bba['is_rosetta']==False]"
   ]
  },
  {
   "cell_type": "code",
   "execution_count": null,
   "metadata": {},
   "outputs": [],
   "source": [
    "# Given the large number of equally most important features per BBA audit, how many of those are Rosetta \n",
    "# and how many are configurational entropy features?\n",
    "\n",
    "max_score = genModel_clf_bba['Importance'].unique()[0]\n",
    "max_fets = genModel_clf_bba[genModel_clf_bba['Importance']==max_score]\n",
    "bba_count_ros_fets = len(max_fets[max_fets['is_rosetta']==True])\n",
    "bba_count_spc_fets = len(max_fets[max_fets['is_rosetta']==False])\n",
    "\n",
    "print(\"Most Important per BBA Audit:\\n\\tcount Rosetta: %s\\n\\tcount Scnf: %s\"%(bba_count_ros_fets,bba_count_spc_fets))"
   ]
  },
  {
   "cell_type": "markdown",
   "metadata": {},
   "source": [
    "### Topology Specific Models"
   ]
  },
  {
   "cell_type": "code",
   "execution_count": null,
   "metadata": {
    "code_folding": []
   },
   "outputs": [],
   "source": [
    "bba_4h_clf = pd.read_csv('./data/model_audits/BBA_4h_clf_feature_importances.csv')\n",
    "bba_betag_clf = pd.read_csv('./data/model_audits/BBA_beta_grasp_clf_feature_importances.csv')\n",
    "bba_coil_clf = pd.read_csv('./data/model_audits/BBA_coil_clf_feature_importances.csv')\n",
    "bba_EEHEE_clf = pd.read_csv('./data/model_audits/BBA_EEHEE_clf_feature_importances.csv')\n",
    "bba_EHEE_clf = pd.read_csv('./data/model_audits/BBA_EHEE_clf_feature_importances.csv')\n",
    "bba_ferr_clf = pd.read_csv('./data/model_audits/BBA_ferredoxin_clf_feature_importances.csv')\n",
    "bba_fold2_clf = pd.read_csv('./data/model_audits/BBA_fold2_clf_feature_importances.csv')\n",
    "bba_fold4_clf = pd.read_csv('./data/model_audits/BBA_fold4_clf_feature_importances.csv')\n",
    "bba_HEEH_clf = pd.read_csv('./data/model_audits/BBA_HEEH_clf_feature_importances.csv')\n",
    "bba_HHH_clf = pd.read_csv('./data/model_audits/BBA_HHH_clf_feature_importances.csv')\n",
    "bba_thio_clf = pd.read_csv('./data/model_audits/BBA_thio_clf_feature_importances.csv')\n",
    "\n",
    "bba_df_list = [\n",
    "    bba_4h_clf,bba_betag_clf,bba_coil_clf,bba_EEHEE_clf,\n",
    "    bba_EHEE_clf,bba_ferr_clf,bba_fold2_clf,bba_fold4_clf,\n",
    "    bba_HEEH_clf,bba_HHH_clf,bba_thio_clf\n",
    "]\n",
    "\n",
    "bba_df_list_names = ['4h','beta_grasp','coil','EEHEE','EHEE','ferredoxin','fold2','fold4','HEEH','HHH','thio']\n"
   ]
  },
  {
   "cell_type": "code",
   "execution_count": null,
   "metadata": {
    "scrolled": false
   },
   "outputs": [],
   "source": [
    "# for i in range(len(bba_df_list)):\n",
    "#     print(\"Topology: %s\"%bba_df_list_names[i])\n",
    "#     print(rank_features(bba_df_list[i],just_entropy=False))\n",
    "#     print(\"\")\n",
    "\n",
    "index = bba_df_list_names\n",
    "data = []\n",
    "sns.set_style(\"white\")\n",
    "f, ax = plt.subplots(nrows=1,ncols=len(bba_df_list),figsize=(20,60))\n",
    "for i in range(len(bba_df_list)):\n",
    "    df = bba_df_list[i]\n",
    "    data.append(get_count_percentiles_list(df)) # do not delete this part\n",
    "    \n",
    "    sns.set_style('white')\n",
    "    plot_data = df.sort_values('Feature',ascending=False)\n",
    "    ax[i].barh(width=plot_data['Importance'],y=plot_data['Feature'])\n",
    "    ax[i].set_title(\"%s\"%bba_df_list_names[i],fontsize=\"20\")\n",
    "    ax[i].get_yaxis().set_visible(False)\n",
    "ax[0].get_yaxis().set_visible(True)\n",
    "\n",
    "summary_df = pd.DataFrame(data=data,index=index,columns=['35th','50th','75th','85th'])"
   ]
  },
  {
   "cell_type": "code",
   "execution_count": null,
   "metadata": {},
   "outputs": [],
   "source": [
    "plt.close('all')\n",
    "f, ax = plt.subplots(figsize=(20,15))\n",
    "\n",
    "#plot the percentiles count\n",
    "summary_df.plot(kind='bar',facecolor='none',edgecolor='black',ax=ax)\n",
    "\n",
    "#label the graph\n",
    "sns.set_style('white')\n",
    "ax.grid(False)\n",
    "plt.xticks(rotation=0,fontsize='25')\n",
    "plt.yticks(fontsize='15')\n",
    "plt.ylabel('Number of features in given percentile',fontsize='25')\n",
    "plt.title('Importance of entropy features for topology specific model per BBA',fontsize='35')\n",
    "\n",
    "bars = ax.patches\n",
    "\n",
    "\n",
    "# Define some hatches\n",
    "hatches = ['-', '\\\\', 'x',\"*\"]\n",
    "\n",
    "dash_bars_inx = list(range(11))\n",
    "slash_bars_inx = list(range(11,22))\n",
    "x_bars_inx = list(range(22,33))\n",
    "asterisk_bars_inx = list(range(33,44))\n",
    "\n",
    "# dash_bars_inx = list(range(10))\n",
    "# slash_bars_inx = list(range(10,20))\n",
    "# x_bars_inx = list(range(20,30))\n",
    "# asterisk_bars_inx = list(range(30,40))\n",
    "\n",
    "\n",
    "\n",
    "\n",
    "inx_list = [dash_bars_inx,slash_bars_inx,x_bars_inx,asterisk_bars_inx]\n",
    "\n",
    "#change colors in graph to hatches\n",
    "for i in range(len(inx_list)):\n",
    "    hatch_type = hatches[i]\n",
    "    for j in inx_list[i]:\n",
    "        bars[j].set_hatch(hatch_type)\n",
    "        \n",
    "plt.legend(fontsize='18')\n",
    "\n",
    "plt.show()"
   ]
  }
 ],
 "metadata": {
  "kernelspec": {
   "display_name": "Python 3",
   "language": "python",
   "name": "python3"
  },
  "language_info": {
   "codemirror_mode": {
    "name": "ipython",
    "version": 3
   },
   "file_extension": ".py",
   "mimetype": "text/x-python",
   "name": "python",
   "nbconvert_exporter": "python",
   "pygments_lexer": "ipython3",
   "version": "3.7.3"
  },
  "toc": {
   "base_numbering": 1,
   "nav_menu": {},
   "number_sections": true,
   "sideBar": true,
   "skip_h1_title": false,
   "title_cell": "Table of Contents",
   "title_sidebar": "Contents",
   "toc_cell": false,
   "toc_position": {},
   "toc_section_display": true,
   "toc_window_display": true
  }
 },
 "nbformat": 4,
 "nbformat_minor": 2
}
